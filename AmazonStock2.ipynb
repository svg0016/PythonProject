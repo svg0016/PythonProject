{
  "nbformat": 4,
  "nbformat_minor": 0,
  "metadata": {
    "colab": {
      "name": "Untitled2.ipynb",
      "provenance": [],
      "authorship_tag": "ABX9TyMeZPj7P03cb1FvyKIgiYnr",
      "include_colab_link": true
    },
    "kernelspec": {
      "name": "python3",
      "display_name": "Python 3"
    }
  },
  "cells": [
    {
      "cell_type": "markdown",
      "metadata": {
        "id": "view-in-github",
        "colab_type": "text"
      },
      "source": [
        "<a href=\"https://colab.research.google.com/github/svg0016/PythonProject/blob/main/AmazonStock2.ipynb\" target=\"_parent\"><img src=\"https://colab.research.google.com/assets/colab-badge.svg\" alt=\"Open In Colab\"/></a>"
      ]
    },
    {
      "cell_type": "code",
      "metadata": {
        "id": "R3uQROvz-m2c"
      },
      "source": [
        "#This program uses \n",
        "\n",
        "#Import Libraries\n",
        "import math\n",
        "import pandas_datareader as web\n",
        "import numpy as np\n",
        "import pandas as pd\n",
        "from sklearn.preprocessing import MinMaxScaler\n",
        "from keras.models import Sequential\n",
        "from keras.layers import Dense, LSTM\n",
        "import matplotlib.pyplot as plt\n",
        "plt.style.use('fivethirtyeight')\n",
        "\n",
        "\n",
        "#Get the stock quote\n",
        "df = web.DataReader('AMZN', data_source='yahoo', start='2018-01-01', end= '2020-12-16')\n",
        "\n",
        "#Show the data\n",
        "df\n",
        "\n"
      ],
      "execution_count": null,
      "outputs": []
    },
    {
      "cell_type": "code",
      "metadata": {
        "id": "tp3P3L6-FkVs"
      },
      "source": [
        "#Get the number of rows and colums in the data set\n",
        "df.shape"
      ],
      "execution_count": null,
      "outputs": []
    },
    {
      "cell_type": "code",
      "metadata": {
        "id": "5YvAJeD2GGTr"
      },
      "source": [
        "#Visualize the closing price history\n",
        "plt.figure(figsize=(16,8))\n",
        "plt.title('Closing Price History')\n",
        "plt.plot(df['Close'])\n",
        "plt.xlabel('Date', fontsize= 18)\n",
        "plt.ylabel('ClosingPrice ($)USD', fontsize= 18)\n",
        "plt.show()"
      ],
      "execution_count": null,
      "outputs": []
    },
    {
      "cell_type": "code",
      "metadata": {
        "id": "kvkH9knlHzU_"
      },
      "source": [
        "#Create a new dataframe with only the 'Close column\n",
        "data = df.filter(['Close'])\n",
        "#Convert the dataframe to a numpy array\n",
        "dataset = data.values\n",
        "#Get the number of rows to train the model on\n",
        "training_data_len = math.ceil( len(dataset)*.80 )\n",
        "\n",
        "training_data_len"
      ],
      "execution_count": null,
      "outputs": []
    },
    {
      "cell_type": "code",
      "metadata": {
        "id": "6FWjDGS6H2PA"
      },
      "source": [
        "#Scale the data\n",
        "scaler = MinMaxScaler(feature_range=(0,1))\n",
        "scaled_data = scaler.fit_transform(dataset)\n",
        "\n",
        "scaled_data"
      ],
      "execution_count": null,
      "outputs": []
    },
    {
      "cell_type": "code",
      "metadata": {
        "id": "Vs0AgASdMEjw",
        "outputId": "766ce0a9-f1f9-416e-ad9a-0066937072f9",
        "colab": {
          "base_uri": "https://localhost:8080/"
        }
      },
      "source": [
        "#Create the traiing data set\n",
        "#Creat the scaled training data set\n",
        "train_data = scaled_data[0:training_data_len, :]\n",
        "#Split the data into x_train and y_train data sets\n",
        "x_train = []\n",
        "y_train = []\n",
        "\n",
        "for i in range(50, len(train_data)):\n",
        "    x_train.append(train_data[i-50:i, 0])\n",
        "    y_train.append(train_data[i,0])\n",
        "\n",
        "    if i<=51:\n",
        "        print(x_train)\n",
        "        print(y_train)\n",
        "        print()\n"
      ],
      "execution_count": 684,
      "outputs": [
        {
          "output_type": "stream",
          "text": [
            "[array([0.        , 0.00648467, 0.00878569, 0.01713171, 0.02470073,\n",
            "       0.02718957, 0.02788543, 0.03742681, 0.0496021 , 0.04945697,\n",
            "       0.04524769, 0.04453046, 0.04506837, 0.05904102, 0.07408089,\n",
            "       0.07193354, 0.08065946, 0.09094792, 0.09762045, 0.10621828,\n",
            "       0.11179796, 0.08580369, 0.10285854, 0.08580369, 0.10836135,\n",
            "       0.09723623, 0.06894093, 0.06428765, 0.08419425, 0.09626714,\n",
            "       0.11186628, 0.11643842, 0.11085874, 0.11925171, 0.12547175,\n",
            "       0.12650483, 0.13276327, 0.14213382, 0.13787759, 0.13807822,\n",
            "       0.12996702, 0.13287   , 0.1428425 , 0.14883199, 0.15197401,\n",
            "       0.15490257, 0.16644184, 0.17476649, 0.1704078 , 0.17161165])]\n",
            "[0.1679060920927259]\n",
            "\n",
            "[array([0.        , 0.00648467, 0.00878569, 0.01713171, 0.02470073,\n",
            "       0.02718957, 0.02788543, 0.03742681, 0.0496021 , 0.04945697,\n",
            "       0.04524769, 0.04453046, 0.04506837, 0.05904102, 0.07408089,\n",
            "       0.07193354, 0.08065946, 0.09094792, 0.09762045, 0.10621828,\n",
            "       0.11179796, 0.08580369, 0.10285854, 0.08580369, 0.10836135,\n",
            "       0.09723623, 0.06894093, 0.06428765, 0.08419425, 0.09626714,\n",
            "       0.11186628, 0.11643842, 0.11085874, 0.11925171, 0.12547175,\n",
            "       0.12650483, 0.13276327, 0.14213382, 0.13787759, 0.13807822,\n",
            "       0.12996702, 0.13287   , 0.1428425 , 0.14883199, 0.15197401,\n",
            "       0.15490257, 0.16644184, 0.17476649, 0.1704078 , 0.17161165]), array([0.00648467, 0.00878569, 0.01713171, 0.02470073, 0.02718957,\n",
            "       0.02788543, 0.03742681, 0.0496021 , 0.04945697, 0.04524769,\n",
            "       0.04453046, 0.04506837, 0.05904102, 0.07408089, 0.07193354,\n",
            "       0.08065946, 0.09094792, 0.09762045, 0.10621828, 0.11179796,\n",
            "       0.08580369, 0.10285854, 0.08580369, 0.10836135, 0.09723623,\n",
            "       0.06894093, 0.06428765, 0.08419425, 0.09626714, 0.11186628,\n",
            "       0.11643842, 0.11085874, 0.11925171, 0.12547175, 0.12650483,\n",
            "       0.13276327, 0.14213382, 0.13787759, 0.13807822, 0.12996702,\n",
            "       0.13287   , 0.1428425 , 0.14883199, 0.15197401, 0.15490257,\n",
            "       0.16644184, 0.17476649, 0.1704078 , 0.17161165, 0.16790609])]\n",
            "[0.1679060920927259, 0.16336386567741923]\n",
            "\n"
          ],
          "name": "stdout"
        }
      ]
    },
    {
      "cell_type": "code",
      "metadata": {
        "id": "wlDRHUdxPJ9S"
      },
      "source": [
        "#Convert the x_train and y_train to numpy arrays\n",
        "x_train,y_train = np.array(x_train), np.array(y_train)"
      ],
      "execution_count": 685,
      "outputs": []
    },
    {
      "cell_type": "code",
      "metadata": {
        "colab": {
          "base_uri": "https://localhost:8080/"
        },
        "id": "6z-tfaXsPcro",
        "outputId": "171cb453-827f-4362-9596-ec672b003fa4"
      },
      "source": [
        "#Reshape the data\n",
        "x_train = np.reshape(x_train, (x_train.shape[0], x_train.shape[1], 1))\n",
        "x_train.shape\n",
        "#x_test.shape[0] = number of rows\n",
        "#x_test.shape[1] = number of columns/timestamps\n",
        "#1 = number of features, close price"
      ],
      "execution_count": 686,
      "outputs": [
        {
          "output_type": "execute_result",
          "data": {
            "text/plain": [
              "(547, 50, 1)"
            ]
          },
          "metadata": {
            "tags": []
          },
          "execution_count": 686
        }
      ]
    },
    {
      "cell_type": "code",
      "metadata": {
        "id": "48dAhMM3QLix"
      },
      "source": [
        "#Build the LSTM(Long Term Short Memory) model\n",
        "model = Sequential()\n",
        "model.add(LSTM(50, return_sequences=True, input_shape= (x_train.shape[1], 1)))\n",
        "model.add(LSTM(50, return_sequences= False))\n",
        "model.add(Dense(25))\n",
        "model.add(Dense(1))"
      ],
      "execution_count": 687,
      "outputs": []
    },
    {
      "cell_type": "code",
      "metadata": {
        "id": "oh5-t6cMRdki"
      },
      "source": [
        "#Compile the model\n",
        "model.compile(optimizer= 'adam', loss='mean_squared_error')\n"
      ],
      "execution_count": 688,
      "outputs": []
    },
    {
      "cell_type": "code",
      "metadata": {
        "colab": {
          "base_uri": "https://localhost:8080/"
        },
        "id": "PNPgPoN7R5Od",
        "outputId": "7728f588-6e57-49b8-aa3e-b3a8edb52636"
      },
      "source": [
        "#Train the Model\n",
        "model.fit(x_train, y_train, batch_size=1, epochs=1)"
      ],
      "execution_count": 689,
      "outputs": [
        {
          "output_type": "stream",
          "text": [
            "547/547 [==============================] - 15s 23ms/step - loss: 0.0036\n"
          ],
          "name": "stdout"
        },
        {
          "output_type": "execute_result",
          "data": {
            "text/plain": [
              "<tensorflow.python.keras.callbacks.History at 0x7fc745abe160>"
            ]
          },
          "metadata": {
            "tags": []
          },
          "execution_count": 689
        }
      ]
    },
    {
      "cell_type": "code",
      "metadata": {
        "id": "qV2MiQsPSr4Y"
      },
      "source": [
        "#Create the testing data set\n",
        "#Create a new array conaining scaled values from index 748 997\n",
        "test_data = scaled_data[training_data_len - 50: , :]\n",
        "#Create the data sets x_test and y_test\n",
        "x_test = []\n",
        "y_test = dataset[training_data_len:, :]\n",
        "\n",
        "for i in range(50, len(test_data)):\n",
        "  x_test.append(test_data[i-50:i, 0])\n",
        "\n"
      ],
      "execution_count": 695,
      "outputs": []
    },
    {
      "cell_type": "code",
      "metadata": {
        "id": "QCzarU-eUHB4"
      },
      "source": [
        "#Convert the data to a numpy array\n",
        "x_test = np.array(x_test)\n"
      ],
      "execution_count": 697,
      "outputs": []
    },
    {
      "cell_type": "code",
      "metadata": {
        "id": "DYWDmD2rUPAd"
      },
      "source": [
        "#Reshape the Data\n",
        "x_test = np.reshape(x_test, (x_test.shape[0], x_test.shape[1], 1))\n",
        "#x_test.shape[0] = number of rows\n",
        "#x_test.shape[1] = number of columns/timestamps\n",
        "#1 = number of features, close price\n"
      ],
      "execution_count": 698,
      "outputs": []
    },
    {
      "cell_type": "code",
      "metadata": {
        "id": "tiWJqeCUXDQO"
      },
      "source": [
        "#Get the models predicted price values\n",
        "predictions = model.predict(x_test)\n",
        "predictions = scaler.inverse_transform(predictions)#Unscaling the predictions\n"
      ],
      "execution_count": 699,
      "outputs": []
    },
    {
      "cell_type": "code",
      "metadata": {
        "colab": {
          "base_uri": "https://localhost:8080/"
        },
        "id": "GCrMhDkQYvBu",
        "outputId": "6f509d62-e96d-4c4c-ec4f-e33ba096cf82"
      },
      "source": [
        "#Get the root mean squared error(RMSE)\n",
        "rmse = np.sqrt( np.mean(predictions - y_test )**2)\n",
        "rmse"
      ],
      "execution_count": 700,
      "outputs": [
        {
          "output_type": "execute_result",
          "data": {
            "text/plain": [
              "67.12186385801175"
            ]
          },
          "metadata": {
            "tags": []
          },
          "execution_count": 700
        }
      ]
    },
    {
      "cell_type": "code",
      "metadata": {
        "id": "pWkFnGAmayvN"
      },
      "source": [
        "#Plot the data\n",
        "train = data[:training_data_len]\n",
        "valid = data[training_data_len:]\n",
        "valid['Predictions'] = predictions\n",
        "#Visualize the data\n",
        "plt.figure(figsize=(16,8))\n",
        "plt.title('Model')\n",
        "plt.xlabel('Date')\n",
        "plt.ylabel('Closing Price $USD')\n",
        "plt.plot(train['Close'])\n",
        "plt.plot(valid[['Close', 'Predictions']])\n",
        "plt.legend(['Train','Actual','Predictions'],loc= 'lower right' )\n",
        "plt.show()"
      ],
      "execution_count": null,
      "outputs": []
    },
    {
      "cell_type": "code",
      "metadata": {
        "colab": {
          "base_uri": "https://localhost:8080/",
          "height": 450
        },
        "id": "x-XVI4Hvd6r2",
        "outputId": "baf4e7fc-ad7c-43dc-dbc8-19da4b59aeca"
      },
      "source": [
        "#Show the valid and predicted prices\n",
        "\n",
        "valid\n"
      ],
      "execution_count": 599,
      "outputs": [
        {
          "output_type": "execute_result",
          "data": {
            "text/html": [
              "<div>\n",
              "<style scoped>\n",
              "    .dataframe tbody tr th:only-of-type {\n",
              "        vertical-align: middle;\n",
              "    }\n",
              "\n",
              "    .dataframe tbody tr th {\n",
              "        vertical-align: top;\n",
              "    }\n",
              "\n",
              "    .dataframe thead th {\n",
              "        text-align: right;\n",
              "    }\n",
              "</style>\n",
              "<table border=\"1\" class=\"dataframe\">\n",
              "  <thead>\n",
              "    <tr style=\"text-align: right;\">\n",
              "      <th></th>\n",
              "      <th>Close</th>\n",
              "      <th>Predictions</th>\n",
              "    </tr>\n",
              "    <tr>\n",
              "      <th>Date</th>\n",
              "      <th></th>\n",
              "      <th></th>\n",
              "    </tr>\n",
              "  </thead>\n",
              "  <tbody>\n",
              "    <tr>\n",
              "      <th>2020-03-06</th>\n",
              "      <td>1901.089966</td>\n",
              "      <td>1989.543213</td>\n",
              "    </tr>\n",
              "    <tr>\n",
              "      <th>2020-03-09</th>\n",
              "      <td>1800.609985</td>\n",
              "      <td>1979.281616</td>\n",
              "    </tr>\n",
              "    <tr>\n",
              "      <th>2020-03-10</th>\n",
              "      <td>1891.819946</td>\n",
              "      <td>1961.139526</td>\n",
              "    </tr>\n",
              "    <tr>\n",
              "      <th>2020-03-11</th>\n",
              "      <td>1820.859985</td>\n",
              "      <td>1948.027466</td>\n",
              "    </tr>\n",
              "    <tr>\n",
              "      <th>2020-03-12</th>\n",
              "      <td>1676.609985</td>\n",
              "      <td>1932.581299</td>\n",
              "    </tr>\n",
              "    <tr>\n",
              "      <th>...</th>\n",
              "      <td>...</td>\n",
              "      <td>...</td>\n",
              "    </tr>\n",
              "    <tr>\n",
              "      <th>2020-12-10</th>\n",
              "      <td>3101.489990</td>\n",
              "      <td>3102.270264</td>\n",
              "    </tr>\n",
              "    <tr>\n",
              "      <th>2020-12-11</th>\n",
              "      <td>3116.419922</td>\n",
              "      <td>3094.195801</td>\n",
              "    </tr>\n",
              "    <tr>\n",
              "      <th>2020-12-14</th>\n",
              "      <td>3156.969971</td>\n",
              "      <td>3086.898193</td>\n",
              "    </tr>\n",
              "    <tr>\n",
              "      <th>2020-12-15</th>\n",
              "      <td>3165.120117</td>\n",
              "      <td>3083.982178</td>\n",
              "    </tr>\n",
              "    <tr>\n",
              "      <th>2020-12-16</th>\n",
              "      <td>3240.959961</td>\n",
              "      <td>3084.100098</td>\n",
              "    </tr>\n",
              "  </tbody>\n",
              "</table>\n",
              "<p>199 rows × 2 columns</p>\n",
              "</div>"
            ],
            "text/plain": [
              "                  Close  Predictions\n",
              "Date                                \n",
              "2020-03-06  1901.089966  1989.543213\n",
              "2020-03-09  1800.609985  1979.281616\n",
              "2020-03-10  1891.819946  1961.139526\n",
              "2020-03-11  1820.859985  1948.027466\n",
              "2020-03-12  1676.609985  1932.581299\n",
              "...                 ...          ...\n",
              "2020-12-10  3101.489990  3102.270264\n",
              "2020-12-11  3116.419922  3094.195801\n",
              "2020-12-14  3156.969971  3086.898193\n",
              "2020-12-15  3165.120117  3083.982178\n",
              "2020-12-16  3240.959961  3084.100098\n",
              "\n",
              "[199 rows x 2 columns]"
            ]
          },
          "metadata": {
            "tags": []
          },
          "execution_count": 599
        }
      ]
    },
    {
      "cell_type": "code",
      "metadata": {
        "colab": {
          "base_uri": "https://localhost:8080/"
        },
        "id": "uryawjyyeKpP",
        "outputId": "5395e48f-3233-4572-ebdf-615a7d1b302a"
      },
      "source": [
        "#Get the quote\n",
        "amzn_quote = web.DataReader('AMZN', data_source='yahoo', start='2014-01-01', end='2020-12-16')\n",
        "#Create a new dataframe\n",
        "new_df = amzn_quote.filter(['Close'])\n",
        "#Get the last 60 day closing price values and convert the dataframe to an array\n",
        "last_60_days = new_df[-60:].values\n",
        "#Scale the data to be values between 0 and 1\n",
        "last_60_days_scaled = scaler.transform(last_60_days)\n",
        "#Create an empty list\n",
        "X_test = []\n",
        "#Append the past 60 days\n",
        "X_test.append(last_60_days_scaled)\n",
        "#Convert the X_test data set to a numpy array\n",
        "X_test = np.array(X_test)\n",
        "#Reshape the data\n",
        "X_test = np.reshape(X_test, (X_test.shape[0], X_test.shape[1], 1))\n",
        "#Get the predicted scaled price\n",
        "pred_price = model.predict(X_test)\n",
        "#undo the scaling\n",
        "pred_price = scaler.inverse_transform(pred_price)\n",
        "print(pred_price)"
      ],
      "execution_count": 702,
      "outputs": [
        {
          "output_type": "stream",
          "text": [
            "[[3246.612]]\n"
          ],
          "name": "stdout"
        }
      ]
    },
    {
      "cell_type": "code",
      "metadata": {
        "id": "OIYNRYnAtsSt",
        "outputId": "56e6c1f8-0d97-4071-a964-5f63f8cdda9a",
        "colab": {
          "base_uri": "https://localhost:8080/"
        }
      },
      "source": [
        "#Get Amazon Current value\n",
        "amzn_quote2 = web.DataReader('AMZN', data_source='yahoo', start='2020-12-17', end='2020-12-17')\n",
        "print(amzn_quote2['Close'])"
      ],
      "execution_count": 703,
      "outputs": [
        {
          "output_type": "stream",
          "text": [
            "Date\n",
            "2020-12-17    3236.080078\n",
            "Name: Close, dtype: float64\n"
          ],
          "name": "stdout"
        }
      ]
    }
  ]
}